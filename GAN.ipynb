{
  "nbformat": 4,
  "nbformat_minor": 0,
  "metadata": {
    "colab": {
      "name": "GAN.ipynb",
      "provenance": [],
      "authorship_tag": "ABX9TyNql/r7KOEViNbvuryk/bNr",
      "include_colab_link": true
    },
    "kernelspec": {
      "name": "python3",
      "display_name": "Python 3"
    },
    "language_info": {
      "name": "python"
    },
    "accelerator": "GPU"
  },
  "cells": [
    {
      "cell_type": "markdown",
      "metadata": {
        "id": "view-in-github",
        "colab_type": "text"
      },
      "source": [
        "<a href=\"https://colab.research.google.com/github/vidyasagarverma/NLP/blob/main/GAN.ipynb\" target=\"_parent\"><img src=\"https://colab.research.google.com/assets/colab-badge.svg\" alt=\"Open In Colab\"/></a>"
      ]
    },
    {
      "cell_type": "code",
      "metadata": {
        "colab": {
          "base_uri": "https://localhost:8080/"
        },
        "id": "GDba7LdExz9H",
        "outputId": "1597345a-ccef-4732-e106-4f717df7390e"
      },
      "source": [
        "# Install TensorFlow\n",
        "!pip install -q tensorflow-gpu==2.0.0-rc0\n",
        "\n",
        "try:\n",
        "  %tensorflow_version 2.x  # Colab only.\n",
        "except Exception:\n",
        "  pass\n",
        "\n",
        "import tensorflow as tf\n",
        "print(tf.__version__)"
      ],
      "execution_count": null,
      "outputs": [
        {
          "output_type": "stream",
          "text": [
            "\u001b[K     |████████████████████████████████| 380.5 MB 38 kB/s \n",
            "\u001b[K     |████████████████████████████████| 501 kB 59.7 MB/s \n",
            "\u001b[K     |████████████████████████████████| 4.3 MB 30.1 MB/s \n",
            "\u001b[K     |████████████████████████████████| 50 kB 7.0 MB/s \n",
            "\u001b[?25h`%tensorflow_version` only switches the major version: 1.x or 2.x.\n",
            "You set: `2.x  # Colab only.`. This will be interpreted as: `2.x`.\n",
            "\n",
            "\n",
            "TensorFlow 2.x selected.\n",
            "2.0.0-rc0\n"
          ],
          "name": "stdout"
        }
      ]
    },
    {
      "cell_type": "code",
      "metadata": {
        "id": "2PNq_Xh91GUs"
      },
      "source": [
        "# More importing common libraries\n",
        "\n",
        "from tensorflow.keras.layers import Input, Dense, LeakyReLU, Dropout, BatchNormalization\n",
        "from tensorflow.keras.models import Model\n",
        "from tensorflow.keras.optimizers import SGD, Adam\n",
        "\n",
        "import numpy as np\n",
        "import pandas as pd\n",
        "import matplotlib.pyplot as plt\n",
        "import sys, os"
      ],
      "execution_count": null,
      "outputs": []
    },
    {
      "cell_type": "code",
      "metadata": {
        "colab": {
          "base_uri": "https://localhost:8080/"
        },
        "id": "U8LkpKnp1PYM",
        "outputId": "0853c705-0de1-48bb-80ef-a7cd8317f783"
      },
      "source": [
        "# Load the MNIST Data\n",
        "\n",
        "mnist = tf.keras.datasets.mnist\n",
        "\n",
        "(x_train, y_train), (x_test, y_test) = mnist.load_data()\n",
        "\n",
        "# Scale the inputs in range of (-1, +1) for better training\n",
        "x_train, x_test = x_train / 255.0 * 2 - 1, x_test / 255.0 * 2 - 1"
      ],
      "execution_count": null,
      "outputs": [
        {
          "output_type": "stream",
          "text": [
            "Downloading data from https://storage.googleapis.com/tensorflow/tf-keras-datasets/mnist.npz\n",
            "11493376/11490434 [==============================] - 0s 0us/step\n"
          ],
          "name": "stdout"
        }
      ]
    },
    {
      "cell_type": "code",
      "metadata": {
        "colab": {
          "base_uri": "https://localhost:8080/"
        },
        "id": "NXasuIHJ1pG4",
        "outputId": "574cffe7-eba0-4b32-c126-18015d07b26b"
      },
      "source": [
        "print (\"x_train.shape:\" ,x_train.shape)\n",
        "print (\"x_test.shape:\" ,x_test.shape)"
      ],
      "execution_count": null,
      "outputs": [
        {
          "output_type": "stream",
          "text": [
            "x_train.shape: (60000, 28, 28)\n",
            "x_test.shape: (10000, 28, 28)\n"
          ],
          "name": "stdout"
        }
      ]
    },
    {
      "cell_type": "code",
      "metadata": {
        "id": "OjZVVED21uqm"
      },
      "source": [
        "# Flatten the data\n",
        "N, H, W = x_train.shape\n",
        "D = H * W\n",
        "x_train = x_train.reshape(-1, D)\n",
        "x_test = x_test.reshape(-1, D)"
      ],
      "execution_count": null,
      "outputs": []
    },
    {
      "cell_type": "code",
      "metadata": {
        "colab": {
          "base_uri": "https://localhost:8080/"
        },
        "id": "G_IydfFx10OI",
        "outputId": "03a5ad65-ad08-401e-f16b-5795f3dc2fba"
      },
      "source": [
        "print (\"x_train.shape:\" ,x_train.shape)\n",
        "print (\"x_test.shape:\" ,x_test.shape)"
      ],
      "execution_count": null,
      "outputs": [
        {
          "output_type": "stream",
          "text": [
            "x_train.shape: (60000, 784)\n",
            "x_test.shape: (10000, 784)\n"
          ],
          "name": "stdout"
        }
      ]
    },
    {
      "cell_type": "code",
      "metadata": {
        "id": "ZLxE9sH614It"
      },
      "source": [
        "# Dimensionality of the latent space\n",
        "latent_dim = 100"
      ],
      "execution_count": null,
      "outputs": []
    },
    {
      "cell_type": "code",
      "metadata": {
        "id": "UXsG2usI18bJ"
      },
      "source": [
        "# Defining the generator model\n",
        "def build_generator(latent_dim):\n",
        "  i = Input(shape=(latent_dim,))\n",
        "  x = Dense(256, activation=LeakyReLU(alpha=0.2))(i)\n",
        "  x = BatchNormalization(momentum=0.7)(x)\n",
        "  x = Dense(512, activation=LeakyReLU(alpha=0.2))(x)\n",
        "  x = BatchNormalization(momentum=0.7)(x)\n",
        "  x = Dense(1024, activation=LeakyReLU(alpha=0.2))(x)\n",
        "  x = BatchNormalization(momentum=0.7)(x)\n",
        "  x = Dense(D, activation='tanh')(x)\n",
        "\n",
        "  model = Model(i, x)\n",
        "  return model"
      ],
      "execution_count": null,
      "outputs": []
    },
    {
      "cell_type": "code",
      "metadata": {
        "id": "wjBytiVW2EAe"
      },
      "source": [
        "# Defining the discriminator model\n",
        "def build_discriminator(img_size):\n",
        "  i = Input(shape=(img_size,))\n",
        "  x = Dense(512, activation=LeakyReLU(alpha=0.2))(i)\n",
        "  x = Dense(256, activation=LeakyReLU(alpha=0.2))(x)\n",
        "  x = Dense(1, activation='sigmoid')(x)\n",
        "\n",
        "  \n",
        "  model = Model(i, x)\n",
        "  return model"
      ],
      "execution_count": null,
      "outputs": []
    },
    {
      "cell_type": "code",
      "metadata": {
        "id": "0Dul2YlX2Pdf"
      },
      "source": [
        "# Compile both models in preparation for training\n",
        "\n",
        "# Build and compile the discriminator\n",
        "discriminator = build_discriminator(D)\n",
        "discriminator.compile ( loss='binary_crossentropy', optimizer=Adam(0.0002, 0.5), metrics=['accuracy'])\n",
        "\n",
        "# Build and compile the combined model\n",
        "generator = build_generator(latent_dim)"
      ],
      "execution_count": null,
      "outputs": []
    },
    {
      "cell_type": "code",
      "metadata": {
        "colab": {
          "base_uri": "https://localhost:8080/"
        },
        "id": "Xkm74cLP2VjG",
        "outputId": "29165f39-7aab-4e9c-9efc-6b60674664d9"
      },
      "source": [
        "generator.summary()"
      ],
      "execution_count": null,
      "outputs": [
        {
          "output_type": "stream",
          "text": [
            "Model: \"model_1\"\n",
            "_________________________________________________________________\n",
            "Layer (type)                 Output Shape              Param #   \n",
            "=================================================================\n",
            "input_2 (InputLayer)         [(None, 100)]             0         \n",
            "_________________________________________________________________\n",
            "dense_3 (Dense)              (None, 256)               25856     \n",
            "_________________________________________________________________\n",
            "batch_normalization (BatchNo (None, 256)               1024      \n",
            "_________________________________________________________________\n",
            "dense_4 (Dense)              (None, 512)               131584    \n",
            "_________________________________________________________________\n",
            "batch_normalization_1 (Batch (None, 512)               2048      \n",
            "_________________________________________________________________\n",
            "dense_5 (Dense)              (None, 1024)              525312    \n",
            "_________________________________________________________________\n",
            "batch_normalization_2 (Batch (None, 1024)              4096      \n",
            "_________________________________________________________________\n",
            "dense_6 (Dense)              (None, 784)               803600    \n",
            "=================================================================\n",
            "Total params: 1,493,520\n",
            "Trainable params: 1,489,936\n",
            "Non-trainable params: 3,584\n",
            "_________________________________________________________________\n"
          ],
          "name": "stdout"
        }
      ]
    },
    {
      "cell_type": "code",
      "metadata": {
        "colab": {
          "base_uri": "https://localhost:8080/"
        },
        "id": "VAlM2jgF2aFT",
        "outputId": "0ce26bb0-ecff-4944-c704-fd11ab057b2b"
      },
      "source": [
        "discriminator.summary()"
      ],
      "execution_count": null,
      "outputs": [
        {
          "output_type": "stream",
          "text": [
            "Model: \"model\"\n",
            "_________________________________________________________________\n",
            "Layer (type)                 Output Shape              Param #   \n",
            "=================================================================\n",
            "input_1 (InputLayer)         [(None, 784)]             0         \n",
            "_________________________________________________________________\n",
            "dense (Dense)                (None, 512)               401920    \n",
            "_________________________________________________________________\n",
            "dense_1 (Dense)              (None, 256)               131328    \n",
            "_________________________________________________________________\n",
            "dense_2 (Dense)              (None, 1)                 257       \n",
            "=================================================================\n",
            "Total params: 533,505\n",
            "Trainable params: 533,505\n",
            "Non-trainable params: 0\n",
            "_________________________________________________________________\n"
          ],
          "name": "stdout"
        }
      ]
    },
    {
      "cell_type": "code",
      "metadata": {
        "colab": {
          "base_uri": "https://localhost:8080/"
        },
        "id": "sEbniNtp23wV",
        "outputId": "1db38bd9-6a10-4864-e19d-b671da889824"
      },
      "source": [
        "# Create an input to represent noise sample from latent space\n",
        "z = Input(shape=(latent_dim,))\n",
        "\n",
        "z.shape"
      ],
      "execution_count": null,
      "outputs": [
        {
          "output_type": "execute_result",
          "data": {
            "text/plain": [
              "TensorShape([None, 100])"
            ]
          },
          "metadata": {
            "tags": []
          },
          "execution_count": 13
        }
      ]
    },
    {
      "cell_type": "code",
      "metadata": {
        "id": "erqSeZA_29J3"
      },
      "source": [
        "# Pass noise through generator to get an image\n",
        "img = generator(z)"
      ],
      "execution_count": null,
      "outputs": []
    },
    {
      "cell_type": "code",
      "metadata": {
        "id": "CaXHCoIk3BB9"
      },
      "source": [
        "# Make sure only the generator is trained\n",
        "discriminator.trainable = False"
      ],
      "execution_count": null,
      "outputs": []
    },
    {
      "cell_type": "code",
      "metadata": {
        "id": "f8-qkyqW3HAq"
      },
      "source": [
        "# The true output is fake, but we label them real!\n",
        "# Passing the output of Generator to the Discriminator\n",
        "\n",
        "fake_pred = discriminator(img)"
      ],
      "execution_count": null,
      "outputs": []
    },
    {
      "cell_type": "code",
      "metadata": {
        "id": "f3Uo1JDH3O2u"
      },
      "source": [
        "# Create the combined model object\n",
        "combined_model_gen = Model(z, fake_pred)"
      ],
      "execution_count": null,
      "outputs": []
    },
    {
      "cell_type": "code",
      "metadata": {
        "id": "Fe648p4o3TD-"
      },
      "source": [
        "# Compile the combined model\n",
        "combined_model_gen.compile(loss='binary_crossentropy', optimizer=Adam(0.0002, 0.5))"
      ],
      "execution_count": null,
      "outputs": []
    },
    {
      "cell_type": "code",
      "metadata": {
        "id": "kS7Fq72U3b7-"
      },
      "source": [
        "# Config\n",
        "\n",
        "batch_size = 32\n",
        "epochs = 30000\n",
        "sample_period = 200 # every `sample_period` steps generate and save some data\""
      ],
      "execution_count": null,
      "outputs": []
    },
    {
      "cell_type": "code",
      "metadata": {
        "id": "SSTdlc2z3gMp"
      },
      "source": [
        "# Create batch labels to use when calling train_on_batch\n",
        "ones = np.ones(batch_size)\n",
        "zeros = np.zeros(batch_size)\n",
        "\n",
        "# Store the losses\n",
        "d_losses = []\n",
        "g_losses = []\n",
        "\n",
        "# Create a folder to store generated images\n",
        "if not os.path.exists('gan_images'):\n",
        "  os.makedirs('gan_images')"
      ],
      "execution_count": null,
      "outputs": []
    },
    {
      "cell_type": "code",
      "metadata": {
        "id": "ZaYcCMZ43rj7"
      },
      "source": [
        "\n",
        "# A function to generate a grid of random samples from the generator and save them to a file\n",
        "\n",
        "def sample_images(epoch):\n",
        "  rows, cols = 5, 5\n",
        "  noise = np.random.randn(rows * cols, latent_dim)\n",
        "  imgs = generator.predict(noise)\n",
        "\n",
        "  # Rescale images 0 - 1\n",
        "  imgs = 0.5 * imgs + 0.5\n",
        "\n",
        "  fig, axs = plt.subplots(rows, cols)\n",
        "  idx = 0\n",
        "  for i in range(rows):\n",
        "    for j in range(cols):\n",
        "      axs[i,j].imshow(imgs[idx].reshape(H, W), cmap='gray')\n",
        "      axs[i,j].axis('off')\n",
        "      idx += 1\n",
        "  fig.savefig(\"gan_images/%d.png\" % epoch)\n",
        "  plt.close()"
      ],
      "execution_count": null,
      "outputs": []
    },
    {
      "cell_type": "code",
      "metadata": {
        "colab": {
          "base_uri": "https://localhost:8080/"
        },
        "id": "7wtx322g3yYh",
        "outputId": "07bde42e-e62c-4efb-cd2f-138ddd35d786"
      },
      "source": [
        "# Main training loop\n",
        "for epoch in range(epochs):\n",
        "  ###########################\n",
        "  ### Train discriminator ###\n",
        "  ###########################\n",
        "  \n",
        "  # Select a random batch of images\n",
        "  idx = np.random.randint(0, x_train.shape[0], batch_size)\n",
        "  real_imgs = x_train[idx]\n",
        "  \n",
        "  # Generate fake images\n",
        "  noise = np.random.randn(batch_size, latent_dim)\n",
        "  fake_imgs = generator.predict(noise)\n",
        "  \n",
        "  # Train the discriminator\n",
        "  # both loss and accuracy are returned\n",
        "  d_loss_real, d_acc_real = discriminator.train_on_batch(real_imgs, ones)\n",
        "  d_loss_fake, d_acc_fake = discriminator.train_on_batch(fake_imgs, zeros)\n",
        "  d_loss = 0.5 * (d_loss_real + d_loss_fake)\n",
        "  d_acc  = 0.5 * (d_acc_real + d_acc_fake)\n",
        "  \n",
        "  \n",
        "  #######################\n",
        "  ### Train generator ###\n",
        "  #######################\n",
        "  \n",
        "  noise = np.random.randn(batch_size, latent_dim)\n",
        "  g_loss = combined_model_gen.train_on_batch(noise, ones)\n",
        "  \n",
        "  # do it again!\n",
        "  noise = np.random.randn(batch_size, latent_dim)\n",
        "  g_loss = combined_model_gen.train_on_batch(noise, ones)\n",
        "  \n",
        "  # Save the losses\n",
        "  d_losses.append(d_loss)\n",
        "  g_losses.append(g_loss)\n",
        "  \n",
        "  if epoch % 100 == 0:\n",
        "    print(f\"epoch: {epoch+1}/{epochs}, d_loss: {d_loss:.2f}, \\\n",
        "      d_acc: {d_acc:.2f}, g_loss: {g_loss:.2f}\")\n",
        "  \n",
        "  if epoch % sample_period == 0:\n",
        "    sample_images(epoch)\n"
      ],
      "execution_count": null,
      "outputs": [
        {
          "output_type": "stream",
          "text": [
            "WARNING:tensorflow:From /usr/local/lib/python3.7/dist-packages/tensorflow_core/python/ops/math_grad.py:1394: where (from tensorflow.python.ops.array_ops) is deprecated and will be removed in a future version.\n",
            "Instructions for updating:\n",
            "Use tf.where in 2.0, which has the same broadcast rule as np.where\n",
            "epoch: 1/30000, d_loss: 0.57,       d_acc: 0.52, g_loss: 0.38\n",
            "epoch: 101/30000, d_loss: 0.04,       d_acc: 1.00, g_loss: 4.08\n",
            "epoch: 201/30000, d_loss: 0.97,       d_acc: 0.34, g_loss: 0.66\n",
            "epoch: 301/30000, d_loss: 0.69,       d_acc: 0.48, g_loss: 0.62\n",
            "epoch: 401/30000, d_loss: 0.68,       d_acc: 0.48, g_loss: 0.64\n",
            "epoch: 501/30000, d_loss: 0.69,       d_acc: 0.47, g_loss: 0.65\n",
            "epoch: 601/30000, d_loss: 0.67,       d_acc: 0.52, g_loss: 0.68\n",
            "epoch: 701/30000, d_loss: 0.71,       d_acc: 0.45, g_loss: 0.68\n",
            "epoch: 801/30000, d_loss: 0.66,       d_acc: 0.62, g_loss: 0.72\n",
            "epoch: 901/30000, d_loss: 0.66,       d_acc: 0.53, g_loss: 0.71\n",
            "epoch: 1001/30000, d_loss: 0.65,       d_acc: 0.62, g_loss: 0.76\n",
            "epoch: 1101/30000, d_loss: 0.68,       d_acc: 0.53, g_loss: 0.79\n",
            "epoch: 1201/30000, d_loss: 0.67,       d_acc: 0.47, g_loss: 0.71\n",
            "epoch: 1301/30000, d_loss: 0.65,       d_acc: 0.59, g_loss: 0.80\n",
            "epoch: 1401/30000, d_loss: 0.64,       d_acc: 0.72, g_loss: 0.77\n",
            "epoch: 1501/30000, d_loss: 0.63,       d_acc: 0.72, g_loss: 0.77\n",
            "epoch: 1601/30000, d_loss: 0.60,       d_acc: 0.73, g_loss: 0.75\n",
            "epoch: 1701/30000, d_loss: 0.65,       d_acc: 0.64, g_loss: 0.78\n",
            "epoch: 1801/30000, d_loss: 0.70,       d_acc: 0.50, g_loss: 0.71\n",
            "epoch: 1901/30000, d_loss: 0.63,       d_acc: 0.66, g_loss: 0.79\n",
            "epoch: 2001/30000, d_loss: 0.68,       d_acc: 0.66, g_loss: 0.82\n",
            "epoch: 2101/30000, d_loss: 0.67,       d_acc: 0.61, g_loss: 0.77\n",
            "epoch: 2201/30000, d_loss: 0.67,       d_acc: 0.62, g_loss: 0.79\n",
            "epoch: 2301/30000, d_loss: 0.74,       d_acc: 0.41, g_loss: 0.77\n",
            "epoch: 2401/30000, d_loss: 0.70,       d_acc: 0.52, g_loss: 0.72\n",
            "epoch: 2501/30000, d_loss: 0.68,       d_acc: 0.62, g_loss: 0.81\n",
            "epoch: 2601/30000, d_loss: 0.68,       d_acc: 0.55, g_loss: 0.82\n",
            "epoch: 2701/30000, d_loss: 0.71,       d_acc: 0.45, g_loss: 0.75\n",
            "epoch: 2801/30000, d_loss: 0.64,       d_acc: 0.67, g_loss: 0.76\n",
            "epoch: 2901/30000, d_loss: 0.69,       d_acc: 0.55, g_loss: 0.81\n",
            "epoch: 3001/30000, d_loss: 0.65,       d_acc: 0.64, g_loss: 0.80\n",
            "epoch: 3101/30000, d_loss: 0.64,       d_acc: 0.70, g_loss: 0.78\n",
            "epoch: 3201/30000, d_loss: 0.68,       d_acc: 0.52, g_loss: 0.76\n",
            "epoch: 3301/30000, d_loss: 0.68,       d_acc: 0.52, g_loss: 0.82\n",
            "epoch: 3401/30000, d_loss: 0.69,       d_acc: 0.56, g_loss: 0.75\n",
            "epoch: 3501/30000, d_loss: 0.70,       d_acc: 0.50, g_loss: 0.74\n",
            "epoch: 3601/30000, d_loss: 0.74,       d_acc: 0.39, g_loss: 0.76\n",
            "epoch: 3701/30000, d_loss: 0.68,       d_acc: 0.53, g_loss: 0.75\n",
            "epoch: 3801/30000, d_loss: 0.67,       d_acc: 0.58, g_loss: 0.75\n",
            "epoch: 3901/30000, d_loss: 0.74,       d_acc: 0.39, g_loss: 0.78\n",
            "epoch: 4001/30000, d_loss: 0.71,       d_acc: 0.47, g_loss: 0.75\n",
            "epoch: 4101/30000, d_loss: 0.71,       d_acc: 0.52, g_loss: 0.78\n",
            "epoch: 4201/30000, d_loss: 0.69,       d_acc: 0.55, g_loss: 0.76\n",
            "epoch: 4301/30000, d_loss: 0.68,       d_acc: 0.58, g_loss: 0.76\n",
            "epoch: 4401/30000, d_loss: 0.68,       d_acc: 0.52, g_loss: 0.80\n",
            "epoch: 4501/30000, d_loss: 0.66,       d_acc: 0.55, g_loss: 0.77\n",
            "epoch: 4601/30000, d_loss: 0.71,       d_acc: 0.45, g_loss: 0.77\n",
            "epoch: 4701/30000, d_loss: 0.69,       d_acc: 0.52, g_loss: 0.77\n",
            "epoch: 4801/30000, d_loss: 0.68,       d_acc: 0.50, g_loss: 0.80\n",
            "epoch: 4901/30000, d_loss: 0.68,       d_acc: 0.59, g_loss: 0.73\n",
            "epoch: 5001/30000, d_loss: 0.72,       d_acc: 0.44, g_loss: 0.77\n",
            "epoch: 5101/30000, d_loss: 0.70,       d_acc: 0.58, g_loss: 0.78\n",
            "epoch: 5201/30000, d_loss: 0.71,       d_acc: 0.55, g_loss: 0.74\n",
            "epoch: 5301/30000, d_loss: 0.75,       d_acc: 0.36, g_loss: 0.77\n",
            "epoch: 5401/30000, d_loss: 0.69,       d_acc: 0.50, g_loss: 0.75\n",
            "epoch: 5501/30000, d_loss: 0.70,       d_acc: 0.50, g_loss: 0.75\n",
            "epoch: 5601/30000, d_loss: 0.68,       d_acc: 0.66, g_loss: 0.73\n",
            "epoch: 5701/30000, d_loss: 0.70,       d_acc: 0.47, g_loss: 0.77\n",
            "epoch: 5801/30000, d_loss: 0.66,       d_acc: 0.72, g_loss: 0.79\n",
            "epoch: 5901/30000, d_loss: 0.70,       d_acc: 0.55, g_loss: 0.77\n",
            "epoch: 6001/30000, d_loss: 0.68,       d_acc: 0.56, g_loss: 0.77\n",
            "epoch: 6101/30000, d_loss: 0.70,       d_acc: 0.53, g_loss: 0.81\n",
            "epoch: 6201/30000, d_loss: 0.71,       d_acc: 0.50, g_loss: 0.82\n",
            "epoch: 6301/30000, d_loss: 0.67,       d_acc: 0.62, g_loss: 0.76\n",
            "epoch: 6401/30000, d_loss: 0.69,       d_acc: 0.58, g_loss: 0.82\n",
            "epoch: 6501/30000, d_loss: 0.72,       d_acc: 0.47, g_loss: 0.76\n",
            "epoch: 6601/30000, d_loss: 0.70,       d_acc: 0.48, g_loss: 0.77\n",
            "epoch: 6701/30000, d_loss: 0.70,       d_acc: 0.53, g_loss: 0.80\n",
            "epoch: 6801/30000, d_loss: 0.68,       d_acc: 0.52, g_loss: 0.76\n",
            "epoch: 6901/30000, d_loss: 0.67,       d_acc: 0.64, g_loss: 0.75\n",
            "epoch: 7001/30000, d_loss: 0.68,       d_acc: 0.55, g_loss: 0.78\n",
            "epoch: 7101/30000, d_loss: 0.67,       d_acc: 0.56, g_loss: 0.76\n",
            "epoch: 7201/30000, d_loss: 0.69,       d_acc: 0.59, g_loss: 0.79\n",
            "epoch: 7301/30000, d_loss: 0.69,       d_acc: 0.53, g_loss: 0.78\n",
            "epoch: 7401/30000, d_loss: 0.67,       d_acc: 0.56, g_loss: 0.77\n",
            "epoch: 7501/30000, d_loss: 0.68,       d_acc: 0.70, g_loss: 0.76\n",
            "epoch: 7601/30000, d_loss: 0.68,       d_acc: 0.50, g_loss: 0.73\n",
            "epoch: 7701/30000, d_loss: 0.70,       d_acc: 0.52, g_loss: 0.77\n",
            "epoch: 7801/30000, d_loss: 0.69,       d_acc: 0.48, g_loss: 0.75\n",
            "epoch: 7901/30000, d_loss: 0.67,       d_acc: 0.62, g_loss: 0.76\n",
            "epoch: 8001/30000, d_loss: 0.68,       d_acc: 0.52, g_loss: 0.73\n",
            "epoch: 8101/30000, d_loss: 0.67,       d_acc: 0.61, g_loss: 0.77\n",
            "epoch: 8201/30000, d_loss: 0.66,       d_acc: 0.69, g_loss: 0.78\n",
            "epoch: 8301/30000, d_loss: 0.69,       d_acc: 0.53, g_loss: 0.74\n",
            "epoch: 8401/30000, d_loss: 0.68,       d_acc: 0.50, g_loss: 0.81\n",
            "epoch: 8501/30000, d_loss: 0.63,       d_acc: 0.73, g_loss: 0.78\n",
            "epoch: 8601/30000, d_loss: 0.68,       d_acc: 0.62, g_loss: 0.80\n",
            "epoch: 8701/30000, d_loss: 0.68,       d_acc: 0.58, g_loss: 0.79\n",
            "epoch: 8801/30000, d_loss: 0.68,       d_acc: 0.56, g_loss: 0.78\n",
            "epoch: 8901/30000, d_loss: 0.66,       d_acc: 0.70, g_loss: 0.77\n",
            "epoch: 9001/30000, d_loss: 0.68,       d_acc: 0.64, g_loss: 0.78\n",
            "epoch: 9101/30000, d_loss: 0.67,       d_acc: 0.53, g_loss: 0.72\n",
            "epoch: 9201/30000, d_loss: 0.71,       d_acc: 0.47, g_loss: 0.80\n",
            "epoch: 9301/30000, d_loss: 0.68,       d_acc: 0.52, g_loss: 0.78\n",
            "epoch: 9401/30000, d_loss: 0.70,       d_acc: 0.47, g_loss: 0.80\n",
            "epoch: 9501/30000, d_loss: 0.71,       d_acc: 0.45, g_loss: 0.78\n",
            "epoch: 9601/30000, d_loss: 0.69,       d_acc: 0.55, g_loss: 0.77\n",
            "epoch: 9701/30000, d_loss: 0.70,       d_acc: 0.50, g_loss: 0.72\n",
            "epoch: 9801/30000, d_loss: 0.66,       d_acc: 0.67, g_loss: 0.76\n",
            "epoch: 9901/30000, d_loss: 0.69,       d_acc: 0.56, g_loss: 0.77\n",
            "epoch: 10001/30000, d_loss: 0.69,       d_acc: 0.55, g_loss: 0.76\n",
            "epoch: 10101/30000, d_loss: 0.69,       d_acc: 0.56, g_loss: 0.74\n",
            "epoch: 10201/30000, d_loss: 0.71,       d_acc: 0.50, g_loss: 0.72\n",
            "epoch: 10301/30000, d_loss: 0.68,       d_acc: 0.50, g_loss: 0.77\n",
            "epoch: 10401/30000, d_loss: 0.74,       d_acc: 0.33, g_loss: 0.84\n",
            "epoch: 10501/30000, d_loss: 0.69,       d_acc: 0.56, g_loss: 0.83\n",
            "epoch: 10601/30000, d_loss: 0.70,       d_acc: 0.52, g_loss: 0.79\n",
            "epoch: 10701/30000, d_loss: 0.71,       d_acc: 0.50, g_loss: 0.75\n",
            "epoch: 10801/30000, d_loss: 0.69,       d_acc: 0.58, g_loss: 0.78\n",
            "epoch: 10901/30000, d_loss: 0.64,       d_acc: 0.67, g_loss: 0.79\n",
            "epoch: 11001/30000, d_loss: 0.64,       d_acc: 0.73, g_loss: 0.73\n",
            "epoch: 11101/30000, d_loss: 0.72,       d_acc: 0.52, g_loss: 0.79\n",
            "epoch: 11201/30000, d_loss: 0.70,       d_acc: 0.50, g_loss: 0.82\n",
            "epoch: 11301/30000, d_loss: 0.71,       d_acc: 0.50, g_loss: 0.78\n",
            "epoch: 11401/30000, d_loss: 0.68,       d_acc: 0.61, g_loss: 0.76\n",
            "epoch: 11501/30000, d_loss: 0.67,       d_acc: 0.56, g_loss: 0.75\n",
            "epoch: 11601/30000, d_loss: 0.73,       d_acc: 0.38, g_loss: 0.78\n",
            "epoch: 11701/30000, d_loss: 0.69,       d_acc: 0.53, g_loss: 0.73\n",
            "epoch: 11801/30000, d_loss: 0.72,       d_acc: 0.50, g_loss: 0.73\n",
            "epoch: 11901/30000, d_loss: 0.69,       d_acc: 0.59, g_loss: 0.74\n",
            "epoch: 12001/30000, d_loss: 0.67,       d_acc: 0.53, g_loss: 0.77\n",
            "epoch: 12101/30000, d_loss: 0.68,       d_acc: 0.53, g_loss: 0.75\n",
            "epoch: 12201/30000, d_loss: 0.68,       d_acc: 0.59, g_loss: 0.79\n",
            "epoch: 12301/30000, d_loss: 0.68,       d_acc: 0.59, g_loss: 0.77\n",
            "epoch: 12401/30000, d_loss: 0.75,       d_acc: 0.41, g_loss: 0.75\n",
            "epoch: 12501/30000, d_loss: 0.71,       d_acc: 0.44, g_loss: 0.80\n",
            "epoch: 12601/30000, d_loss: 0.68,       d_acc: 0.56, g_loss: 0.75\n",
            "epoch: 12701/30000, d_loss: 0.69,       d_acc: 0.55, g_loss: 0.72\n",
            "epoch: 12801/30000, d_loss: 0.66,       d_acc: 0.56, g_loss: 0.78\n",
            "epoch: 12901/30000, d_loss: 0.66,       d_acc: 0.59, g_loss: 0.74\n",
            "epoch: 13001/30000, d_loss: 0.68,       d_acc: 0.55, g_loss: 0.79\n",
            "epoch: 13101/30000, d_loss: 0.66,       d_acc: 0.61, g_loss: 0.86\n",
            "epoch: 13201/30000, d_loss: 0.70,       d_acc: 0.52, g_loss: 0.78\n",
            "epoch: 13301/30000, d_loss: 0.68,       d_acc: 0.53, g_loss: 0.75\n",
            "epoch: 13401/30000, d_loss: 0.67,       d_acc: 0.61, g_loss: 0.76\n",
            "epoch: 13501/30000, d_loss: 0.71,       d_acc: 0.52, g_loss: 0.75\n",
            "epoch: 13601/30000, d_loss: 0.68,       d_acc: 0.56, g_loss: 0.74\n",
            "epoch: 13701/30000, d_loss: 0.64,       d_acc: 0.67, g_loss: 0.77\n",
            "epoch: 13801/30000, d_loss: 0.66,       d_acc: 0.52, g_loss: 0.78\n",
            "epoch: 13901/30000, d_loss: 0.69,       d_acc: 0.47, g_loss: 0.81\n",
            "epoch: 14001/30000, d_loss: 0.68,       d_acc: 0.52, g_loss: 0.76\n",
            "epoch: 14101/30000, d_loss: 0.69,       d_acc: 0.64, g_loss: 0.81\n",
            "epoch: 14201/30000, d_loss: 0.68,       d_acc: 0.47, g_loss: 0.78\n",
            "epoch: 14301/30000, d_loss: 0.71,       d_acc: 0.48, g_loss: 0.77\n",
            "epoch: 14401/30000, d_loss: 0.67,       d_acc: 0.62, g_loss: 0.80\n",
            "epoch: 14501/30000, d_loss: 0.70,       d_acc: 0.48, g_loss: 0.81\n",
            "epoch: 14601/30000, d_loss: 0.70,       d_acc: 0.42, g_loss: 0.75\n",
            "epoch: 14701/30000, d_loss: 0.67,       d_acc: 0.58, g_loss: 0.76\n",
            "epoch: 14801/30000, d_loss: 0.66,       d_acc: 0.66, g_loss: 0.74\n",
            "epoch: 14901/30000, d_loss: 0.67,       d_acc: 0.62, g_loss: 0.80\n",
            "epoch: 15001/30000, d_loss: 0.69,       d_acc: 0.53, g_loss: 0.74\n",
            "epoch: 15101/30000, d_loss: 0.69,       d_acc: 0.52, g_loss: 0.72\n",
            "epoch: 15201/30000, d_loss: 0.67,       d_acc: 0.56, g_loss: 0.75\n",
            "epoch: 15301/30000, d_loss: 0.71,       d_acc: 0.52, g_loss: 0.76\n",
            "epoch: 15401/30000, d_loss: 0.71,       d_acc: 0.53, g_loss: 0.80\n",
            "epoch: 15501/30000, d_loss: 0.70,       d_acc: 0.52, g_loss: 0.79\n",
            "epoch: 15601/30000, d_loss: 0.68,       d_acc: 0.55, g_loss: 0.79\n",
            "epoch: 15701/30000, d_loss: 0.68,       d_acc: 0.59, g_loss: 0.81\n",
            "epoch: 15801/30000, d_loss: 0.72,       d_acc: 0.44, g_loss: 0.73\n",
            "epoch: 15901/30000, d_loss: 0.68,       d_acc: 0.55, g_loss: 0.79\n",
            "epoch: 16001/30000, d_loss: 0.68,       d_acc: 0.64, g_loss: 0.76\n",
            "epoch: 16101/30000, d_loss: 0.68,       d_acc: 0.58, g_loss: 0.81\n",
            "epoch: 16201/30000, d_loss: 0.68,       d_acc: 0.52, g_loss: 0.78\n",
            "epoch: 16301/30000, d_loss: 0.68,       d_acc: 0.55, g_loss: 0.77\n",
            "epoch: 16401/30000, d_loss: 0.68,       d_acc: 0.56, g_loss: 0.77\n",
            "epoch: 16501/30000, d_loss: 0.71,       d_acc: 0.48, g_loss: 0.77\n",
            "epoch: 16601/30000, d_loss: 0.69,       d_acc: 0.52, g_loss: 0.78\n",
            "epoch: 16701/30000, d_loss: 0.68,       d_acc: 0.56, g_loss: 0.84\n",
            "epoch: 16801/30000, d_loss: 0.67,       d_acc: 0.59, g_loss: 0.80\n",
            "epoch: 16901/30000, d_loss: 0.70,       d_acc: 0.50, g_loss: 0.76\n",
            "epoch: 17001/30000, d_loss: 0.68,       d_acc: 0.55, g_loss: 0.77\n",
            "epoch: 17101/30000, d_loss: 0.68,       d_acc: 0.58, g_loss: 0.77\n",
            "epoch: 17201/30000, d_loss: 0.67,       d_acc: 0.59, g_loss: 0.77\n",
            "epoch: 17301/30000, d_loss: 0.67,       d_acc: 0.59, g_loss: 0.78\n",
            "epoch: 17401/30000, d_loss: 0.68,       d_acc: 0.52, g_loss: 0.75\n",
            "epoch: 17501/30000, d_loss: 0.67,       d_acc: 0.62, g_loss: 0.73\n",
            "epoch: 17601/30000, d_loss: 0.67,       d_acc: 0.55, g_loss: 0.77\n",
            "epoch: 17701/30000, d_loss: 0.66,       d_acc: 0.61, g_loss: 0.77\n",
            "epoch: 17801/30000, d_loss: 0.70,       d_acc: 0.50, g_loss: 0.79\n",
            "epoch: 17901/30000, d_loss: 0.69,       d_acc: 0.52, g_loss: 0.78\n",
            "epoch: 18001/30000, d_loss: 0.70,       d_acc: 0.55, g_loss: 0.77\n",
            "epoch: 18101/30000, d_loss: 0.70,       d_acc: 0.56, g_loss: 0.77\n",
            "epoch: 18201/30000, d_loss: 0.69,       d_acc: 0.53, g_loss: 0.78\n",
            "epoch: 18301/30000, d_loss: 0.68,       d_acc: 0.61, g_loss: 0.80\n",
            "epoch: 18401/30000, d_loss: 0.70,       d_acc: 0.52, g_loss: 0.74\n",
            "epoch: 18501/30000, d_loss: 0.70,       d_acc: 0.48, g_loss: 0.75\n",
            "epoch: 18601/30000, d_loss: 0.70,       d_acc: 0.45, g_loss: 0.77\n",
            "epoch: 18701/30000, d_loss: 0.65,       d_acc: 0.59, g_loss: 0.80\n",
            "epoch: 18801/30000, d_loss: 0.68,       d_acc: 0.50, g_loss: 0.78\n",
            "epoch: 18901/30000, d_loss: 0.66,       d_acc: 0.59, g_loss: 0.81\n",
            "epoch: 19001/30000, d_loss: 0.66,       d_acc: 0.64, g_loss: 0.76\n",
            "epoch: 19101/30000, d_loss: 0.70,       d_acc: 0.47, g_loss: 0.76\n",
            "epoch: 19201/30000, d_loss: 0.69,       d_acc: 0.50, g_loss: 0.74\n",
            "epoch: 19301/30000, d_loss: 0.69,       d_acc: 0.53, g_loss: 0.78\n",
            "epoch: 19401/30000, d_loss: 0.67,       d_acc: 0.59, g_loss: 0.76\n",
            "epoch: 19501/30000, d_loss: 0.69,       d_acc: 0.56, g_loss: 0.77\n",
            "epoch: 19601/30000, d_loss: 0.69,       d_acc: 0.56, g_loss: 0.77\n",
            "epoch: 19701/30000, d_loss: 0.68,       d_acc: 0.61, g_loss: 0.73\n",
            "epoch: 19801/30000, d_loss: 0.72,       d_acc: 0.47, g_loss: 0.72\n",
            "epoch: 19901/30000, d_loss: 0.70,       d_acc: 0.52, g_loss: 0.75\n",
            "epoch: 20001/30000, d_loss: 0.69,       d_acc: 0.44, g_loss: 0.77\n",
            "epoch: 20101/30000, d_loss: 0.68,       d_acc: 0.56, g_loss: 0.77\n",
            "epoch: 20201/30000, d_loss: 0.69,       d_acc: 0.56, g_loss: 0.75\n",
            "epoch: 20301/30000, d_loss: 0.74,       d_acc: 0.44, g_loss: 0.78\n",
            "epoch: 20401/30000, d_loss: 0.71,       d_acc: 0.50, g_loss: 0.79\n",
            "epoch: 20501/30000, d_loss: 0.71,       d_acc: 0.52, g_loss: 0.76\n",
            "epoch: 20601/30000, d_loss: 0.66,       d_acc: 0.59, g_loss: 0.79\n",
            "epoch: 20701/30000, d_loss: 0.66,       d_acc: 0.59, g_loss: 0.76\n",
            "epoch: 20801/30000, d_loss: 0.69,       d_acc: 0.50, g_loss: 0.79\n",
            "epoch: 20901/30000, d_loss: 0.66,       d_acc: 0.61, g_loss: 0.74\n",
            "epoch: 21001/30000, d_loss: 0.66,       d_acc: 0.59, g_loss: 0.77\n",
            "epoch: 21101/30000, d_loss: 0.66,       d_acc: 0.66, g_loss: 0.76\n",
            "epoch: 21201/30000, d_loss: 0.69,       d_acc: 0.55, g_loss: 0.79\n",
            "epoch: 21301/30000, d_loss: 0.68,       d_acc: 0.55, g_loss: 0.79\n",
            "epoch: 21401/30000, d_loss: 0.67,       d_acc: 0.62, g_loss: 0.77\n",
            "epoch: 21501/30000, d_loss: 0.64,       d_acc: 0.56, g_loss: 0.78\n",
            "epoch: 21601/30000, d_loss: 0.67,       d_acc: 0.52, g_loss: 0.79\n",
            "epoch: 21701/30000, d_loss: 0.71,       d_acc: 0.53, g_loss: 0.76\n",
            "epoch: 21801/30000, d_loss: 0.67,       d_acc: 0.58, g_loss: 0.76\n",
            "epoch: 21901/30000, d_loss: 0.70,       d_acc: 0.58, g_loss: 0.82\n",
            "epoch: 22001/30000, d_loss: 0.65,       d_acc: 0.69, g_loss: 0.73\n",
            "epoch: 22101/30000, d_loss: 0.67,       d_acc: 0.59, g_loss: 0.77\n",
            "epoch: 22201/30000, d_loss: 0.69,       d_acc: 0.45, g_loss: 0.78\n",
            "epoch: 22301/30000, d_loss: 0.67,       d_acc: 0.61, g_loss: 0.81\n",
            "epoch: 22401/30000, d_loss: 0.69,       d_acc: 0.53, g_loss: 0.85\n",
            "epoch: 22501/30000, d_loss: 0.66,       d_acc: 0.66, g_loss: 0.81\n",
            "epoch: 22601/30000, d_loss: 0.70,       d_acc: 0.48, g_loss: 0.76\n",
            "epoch: 22701/30000, d_loss: 0.68,       d_acc: 0.58, g_loss: 0.76\n",
            "epoch: 22801/30000, d_loss: 0.69,       d_acc: 0.61, g_loss: 0.79\n",
            "epoch: 22901/30000, d_loss: 0.68,       d_acc: 0.58, g_loss: 0.79\n",
            "epoch: 23001/30000, d_loss: 0.70,       d_acc: 0.61, g_loss: 0.79\n",
            "epoch: 23101/30000, d_loss: 0.65,       d_acc: 0.64, g_loss: 0.82\n",
            "epoch: 23201/30000, d_loss: 0.68,       d_acc: 0.62, g_loss: 0.73\n",
            "epoch: 23301/30000, d_loss: 0.71,       d_acc: 0.53, g_loss: 0.80\n",
            "epoch: 23401/30000, d_loss: 0.65,       d_acc: 0.66, g_loss: 0.82\n",
            "epoch: 23501/30000, d_loss: 0.66,       d_acc: 0.58, g_loss: 0.80\n",
            "epoch: 23601/30000, d_loss: 0.69,       d_acc: 0.53, g_loss: 0.79\n",
            "epoch: 23701/30000, d_loss: 0.68,       d_acc: 0.55, g_loss: 0.77\n",
            "epoch: 23801/30000, d_loss: 0.68,       d_acc: 0.50, g_loss: 0.76\n",
            "epoch: 23901/30000, d_loss: 0.69,       d_acc: 0.55, g_loss: 0.75\n",
            "epoch: 24001/30000, d_loss: 0.69,       d_acc: 0.56, g_loss: 0.76\n",
            "epoch: 24101/30000, d_loss: 0.70,       d_acc: 0.50, g_loss: 0.78\n",
            "epoch: 24201/30000, d_loss: 0.65,       d_acc: 0.53, g_loss: 0.82\n",
            "epoch: 24301/30000, d_loss: 0.66,       d_acc: 0.58, g_loss: 0.82\n",
            "epoch: 24401/30000, d_loss: 0.66,       d_acc: 0.59, g_loss: 0.82\n",
            "epoch: 24501/30000, d_loss: 0.70,       d_acc: 0.50, g_loss: 0.76\n",
            "epoch: 24601/30000, d_loss: 0.67,       d_acc: 0.55, g_loss: 0.76\n",
            "epoch: 24701/30000, d_loss: 0.69,       d_acc: 0.53, g_loss: 0.76\n",
            "epoch: 24801/30000, d_loss: 0.67,       d_acc: 0.62, g_loss: 0.78\n",
            "epoch: 24901/30000, d_loss: 0.69,       d_acc: 0.56, g_loss: 0.80\n",
            "epoch: 25001/30000, d_loss: 0.69,       d_acc: 0.56, g_loss: 0.80\n",
            "epoch: 25101/30000, d_loss: 0.69,       d_acc: 0.53, g_loss: 0.78\n",
            "epoch: 25201/30000, d_loss: 0.69,       d_acc: 0.58, g_loss: 0.82\n",
            "epoch: 25301/30000, d_loss: 0.68,       d_acc: 0.59, g_loss: 0.78\n",
            "epoch: 25401/30000, d_loss: 0.68,       d_acc: 0.56, g_loss: 0.76\n",
            "epoch: 25501/30000, d_loss: 0.72,       d_acc: 0.48, g_loss: 0.77\n",
            "epoch: 25601/30000, d_loss: 0.67,       d_acc: 0.61, g_loss: 0.79\n",
            "epoch: 25701/30000, d_loss: 0.67,       d_acc: 0.62, g_loss: 0.86\n",
            "epoch: 25801/30000, d_loss: 0.66,       d_acc: 0.59, g_loss: 0.78\n",
            "epoch: 25901/30000, d_loss: 0.70,       d_acc: 0.56, g_loss: 0.76\n",
            "epoch: 26001/30000, d_loss: 0.68,       d_acc: 0.58, g_loss: 0.76\n",
            "epoch: 26101/30000, d_loss: 0.66,       d_acc: 0.53, g_loss: 0.79\n",
            "epoch: 26201/30000, d_loss: 0.72,       d_acc: 0.38, g_loss: 0.79\n",
            "epoch: 26301/30000, d_loss: 0.67,       d_acc: 0.59, g_loss: 0.75\n",
            "epoch: 26401/30000, d_loss: 0.69,       d_acc: 0.56, g_loss: 0.73\n",
            "epoch: 26501/30000, d_loss: 0.71,       d_acc: 0.48, g_loss: 0.80\n",
            "epoch: 26601/30000, d_loss: 0.65,       d_acc: 0.61, g_loss: 0.76\n",
            "epoch: 26701/30000, d_loss: 0.71,       d_acc: 0.50, g_loss: 0.80\n",
            "epoch: 26801/30000, d_loss: 0.66,       d_acc: 0.61, g_loss: 0.83\n",
            "epoch: 26901/30000, d_loss: 0.66,       d_acc: 0.59, g_loss: 0.77\n",
            "epoch: 27001/30000, d_loss: 0.68,       d_acc: 0.56, g_loss: 0.75\n",
            "epoch: 27101/30000, d_loss: 0.73,       d_acc: 0.47, g_loss: 0.75\n",
            "epoch: 27201/30000, d_loss: 0.67,       d_acc: 0.59, g_loss: 0.77\n",
            "epoch: 27301/30000, d_loss: 0.70,       d_acc: 0.55, g_loss: 0.81\n",
            "epoch: 27401/30000, d_loss: 0.66,       d_acc: 0.59, g_loss: 0.81\n",
            "epoch: 27501/30000, d_loss: 0.70,       d_acc: 0.45, g_loss: 0.76\n",
            "epoch: 27601/30000, d_loss: 0.69,       d_acc: 0.55, g_loss: 0.79\n",
            "epoch: 27701/30000, d_loss: 0.68,       d_acc: 0.58, g_loss: 0.79\n",
            "epoch: 27801/30000, d_loss: 0.70,       d_acc: 0.50, g_loss: 0.80\n",
            "epoch: 27901/30000, d_loss: 0.64,       d_acc: 0.62, g_loss: 0.83\n",
            "epoch: 28001/30000, d_loss: 0.71,       d_acc: 0.47, g_loss: 0.79\n",
            "epoch: 28101/30000, d_loss: 0.69,       d_acc: 0.53, g_loss: 0.77\n",
            "epoch: 28201/30000, d_loss: 0.68,       d_acc: 0.61, g_loss: 0.81\n",
            "epoch: 28301/30000, d_loss: 0.67,       d_acc: 0.58, g_loss: 0.80\n",
            "epoch: 28401/30000, d_loss: 0.69,       d_acc: 0.50, g_loss: 0.82\n",
            "epoch: 28501/30000, d_loss: 0.65,       d_acc: 0.64, g_loss: 0.83\n",
            "epoch: 28601/30000, d_loss: 0.67,       d_acc: 0.58, g_loss: 0.76\n",
            "epoch: 28701/30000, d_loss: 0.67,       d_acc: 0.58, g_loss: 0.75\n",
            "epoch: 28801/30000, d_loss: 0.67,       d_acc: 0.59, g_loss: 0.81\n",
            "epoch: 28901/30000, d_loss: 0.71,       d_acc: 0.50, g_loss: 0.82\n",
            "epoch: 29001/30000, d_loss: 0.70,       d_acc: 0.58, g_loss: 0.86\n",
            "epoch: 29101/30000, d_loss: 0.70,       d_acc: 0.48, g_loss: 0.80\n",
            "epoch: 29201/30000, d_loss: 0.68,       d_acc: 0.64, g_loss: 0.80\n",
            "epoch: 29301/30000, d_loss: 0.69,       d_acc: 0.55, g_loss: 0.76\n",
            "epoch: 29401/30000, d_loss: 0.68,       d_acc: 0.66, g_loss: 0.78\n",
            "epoch: 29501/30000, d_loss: 0.67,       d_acc: 0.69, g_loss: 0.78\n",
            "epoch: 29601/30000, d_loss: 0.69,       d_acc: 0.56, g_loss: 0.80\n",
            "epoch: 29701/30000, d_loss: 0.65,       d_acc: 0.64, g_loss: 0.81\n",
            "epoch: 29801/30000, d_loss: 0.72,       d_acc: 0.36, g_loss: 0.79\n",
            "epoch: 29901/30000, d_loss: 0.64,       d_acc: 0.62, g_loss: 0.78\n"
          ],
          "name": "stdout"
        }
      ]
    },
    {
      "cell_type": "code",
      "metadata": {
        "colab": {
          "base_uri": "https://localhost:8080/",
          "height": 282
        },
        "id": "GYCQaFA238rn",
        "outputId": "ee506dae-2490-405c-ae0c-cb1be8436701"
      },
      "source": [
        "\n",
        "plt.plot(g_losses, label='g_losses')\n",
        "plt.plot(d_losses, label='d_losses')\n",
        "plt.legend()"
      ],
      "execution_count": null,
      "outputs": [
        {
          "output_type": "execute_result",
          "data": {
            "text/plain": [
              "<matplotlib.legend.Legend at 0x7fb21611f210>"
            ]
          },
          "metadata": {
            "tags": []
          },
          "execution_count": 23
        },
        {
          "output_type": "display_data",
          "data": {
            "image/png": "[encoded data removed]",
            "text/plain": [
              "<Figure size 432x288 with 1 Axes>"
            ]
          },
          "metadata": {
            "tags": [],
            "needs_background": "light"
          }
        }
      ]
    },
    {
      "cell_type": "code",
      "metadata": {
        "colab": {
          "base_uri": "https://localhost:8080/"
        },
        "id": "pplsvPtyEqgI",
        "outputId": "1cc650ca-887d-46da-fef8-13d1e0a139cd"
      },
      "source": [
        "\n",
        "!ls gan_images"
      ],
      "execution_count": null,
      "outputs": [
        {
          "output_type": "stream",
          "text": [
            "0.png\t   13800.png  17800.png  21600.png  25600.png  29600.png  6600.png\n",
            "10000.png  14000.png  18000.png  21800.png  25800.png  29800.png  6800.png\n",
            "1000.png   1400.png   1800.png\t 22000.png  26000.png  3000.png   7000.png\n",
            "10200.png  14200.png  18200.png  2200.png   2600.png   3200.png   7200.png\n",
            "10400.png  14400.png  18400.png  22200.png  26200.png  3400.png   7400.png\n",
            "10600.png  14600.png  18600.png  22400.png  26400.png  3600.png   7600.png\n",
            "10800.png  14800.png  18800.png  22600.png  26600.png  3800.png   7800.png\n",
            "11000.png  15000.png  19000.png  22800.png  26800.png  4000.png   8000.png\n",
            "11200.png  15200.png  19200.png  23000.png  27000.png  400.png\t  800.png\n",
            "11400.png  15400.png  19400.png  23200.png  27200.png  4200.png   8200.png\n",
            "11600.png  15600.png  19600.png  23400.png  27400.png  4400.png   8400.png\n",
            "11800.png  15800.png  19800.png  23600.png  27600.png  4600.png   8600.png\n",
            "12000.png  16000.png  20000.png  23800.png  27800.png  4800.png   8800.png\n",
            "1200.png   1600.png   2000.png\t 24000.png  28000.png  5000.png   9000.png\n",
            "12200.png  16200.png  200.png\t 2400.png   2800.png   5200.png   9200.png\n",
            "12400.png  16400.png  20200.png  24200.png  28200.png  5400.png   9400.png\n",
            "12600.png  16600.png  20400.png  24400.png  28400.png  5600.png   9600.png\n",
            "12800.png  16800.png  20600.png  24600.png  28600.png  5800.png   9800.png\n",
            "13000.png  17000.png  20800.png  24800.png  28800.png  6000.png\n",
            "13200.png  17200.png  21000.png  25000.png  29000.png  600.png\n",
            "13400.png  17400.png  21200.png  25200.png  29200.png  6200.png\n",
            "13600.png  17600.png  21400.png  25400.png  29400.png  6400.png\n"
          ],
          "name": "stdout"
        }
      ]
    },
    {
      "cell_type": "code",
      "metadata": {
        "colab": {
          "base_uri": "https://localhost:8080/",
          "height": 286
        },
        "id": "xOzWpSnwEwGM",
        "outputId": "5e95be11-034a-45bc-b7ce-ffb1b170623e"
      },
      "source": [
        "from skimage.io import imread\n",
        "a = imread('gan_images/0.png')\n",
        "plt.imshow(a)"
      ],
      "execution_count": null,
      "outputs": [
        {
          "output_type": "execute_result",
          "data": {
            "text/plain": [
              "<matplotlib.image.AxesImage at 0x7fb1bff2bb90>"
            ]
          },
          "metadata": {
            "tags": []
          },
          "execution_count": 25
        },
        {
          "output_type": "display_data",
          "data": {
            "image/png": "[encoded data removed]",
            "text/plain": [
              "<Figure size 432x288 with 1 Axes>"
            ]
          },
          "metadata": {
            "tags": [],
            "needs_background": "light"
          }
        }
      ]
    },
    {
      "cell_type": "code",
      "metadata": {
        "colab": {
          "base_uri": "https://localhost:8080/",
          "height": 286
        },
        "id": "qjp2tVYfE3E-",
        "outputId": "e2ff40ee-f94d-4fc5-ae4e-81b3cd916fc6"
      },
      "source": [
        "\n",
        "a = imread('gan_images/1000.png')\n",
        "plt.imshow(a)"
      ],
      "execution_count": null,
      "outputs": [
        {
          "output_type": "execute_result",
          "data": {
            "text/plain": [
              "<matplotlib.image.AxesImage at 0x7fb1bf6ba790>"
            ]
          },
          "metadata": {
            "tags": []
          },
          "execution_count": 26
        },
        {
          "output_type": "display_data",
          "data": {
            "image/png": "[encoded data removed]",
            "text/plain": [
              "<Figure size 432x288 with 1 Axes>"
            ]
          },
          "metadata": {
            "tags": [],
            "needs_background": "light"
          }
        }
      ]
    },
    {
      "cell_type": "code",
      "metadata": {
        "id": "2lGy_81yE8HG"
      },
      "source": [
        ""
      ],
      "execution_count": null,
      "outputs": []
    }
  ]
}