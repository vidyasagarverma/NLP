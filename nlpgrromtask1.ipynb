{
  "nbformat": 4,
  "nbformat_minor": 0,
  "metadata": {
    "colab": {
      "name": "nlpgrromtask1.ipynb",
      "provenance": []
    },
    "kernelspec": {
      "name": "python3",
      "display_name": "Python 3"
    },
    "language_info": {
      "name": "python"
    }
  },
  "cells": [
    {
      "cell_type": "markdown",
      "metadata": {
        "id": "-KzewT8t-Nkj"
      },
      "source": [
        " \n",
        "\n",
        "1.   **part1:** correct the spelling in the search bar and display correct \n",
        "2.   **part2:**extract the value from the list or dict synonyms are need like blue shirt , we need synonyms of blue word\n",
        "\n",
        "3.   **part3**: find out synonyms of that word\n",
        "4.   **part4**:merge that synonyms with other word like blue or bluish with shirt\n",
        "\n",
        "\n",
        "\n"
      ]
    },
    {
      "cell_type": "code",
      "metadata": {
        "id": "t_Rb6CElAnRo"
      },
      "source": [
        ""
      ],
      "execution_count": null,
      "outputs": []
    },
    {
      "cell_type": "markdown",
      "metadata": {
        "id": "3MuKLnFQ90wm"
      },
      "source": [
        ""
      ]
    },
    {
      "cell_type": "code",
      "metadata": {
        "colab": {
          "base_uri": "https://localhost:8080/"
        },
        "id": "32J5olsnAoJJ",
        "outputId": "55c5d29c-22f6-42d5-a37c-b9bc86925011"
      },
      "source": [
        "!pip install gingerit"
      ],
      "execution_count": null,
      "outputs": [
        {
          "output_type": "stream",
          "text": [
            "Requirement already satisfied: gingerit in /usr/local/lib/python3.7/dist-packages (0.8.2)\n",
            "Requirement already satisfied: requests<3.0.0,>=2.25.1 in /usr/local/lib/python3.7/dist-packages (from gingerit) (2.26.0)\n",
            "Requirement already satisfied: certifi>=2017.4.17 in /usr/local/lib/python3.7/dist-packages (from requests<3.0.0,>=2.25.1->gingerit) (2021.5.30)\n",
            "Requirement already satisfied: urllib3<1.27,>=1.21.1 in /usr/local/lib/python3.7/dist-packages (from requests<3.0.0,>=2.25.1->gingerit) (1.24.3)\n",
            "Requirement already satisfied: charset-normalizer~=2.0.0 in /usr/local/lib/python3.7/dist-packages (from requests<3.0.0,>=2.25.1->gingerit) (2.0.2)\n",
            "Requirement already satisfied: idna<4,>=2.5 in /usr/local/lib/python3.7/dist-packages (from requests<3.0.0,>=2.25.1->gingerit) (2.10)\n"
          ],
          "name": "stdout"
        }
      ]
    },
    {
      "cell_type": "code",
      "metadata": {
        "colab": {
          "base_uri": "https://localhost:8080/"
        },
        "id": "Yu6qdeLGAU4g",
        "outputId": "77cef9c5-4e82-4179-cd80-0dd8f7e2686a"
      },
      "source": [
        "from gingerit.gingerit import GingerIt\n",
        "\n",
        "text = input()\n",
        "\n",
        "parser = GingerIt()\n",
        "parser.parse(text)"
      ],
      "execution_count": null,
      "outputs": [
        {
          "output_type": "stream",
          "text": [
            "bleu shirt\n"
          ],
          "name": "stdout"
        },
        {
          "output_type": "execute_result",
          "data": {
            "text/plain": [
              "{'corrections': [{'correct': 'Blue',\n",
              "   'definition': None,\n",
              "   'start': 0,\n",
              "   'text': 'bleu'}],\n",
              " 'result': 'Blue shirt',\n",
              " 'text': 'bleu shirt'}"
            ]
          },
          "metadata": {
            "tags": []
          },
          "execution_count": 95
        }
      ]
    },
    {
      "cell_type": "code",
      "metadata": {
        "id": "Vuqu5iFaBjQD"
      },
      "source": [
        "results=parser.parse(text)"
      ],
      "execution_count": null,
      "outputs": []
    },
    {
      "cell_type": "code",
      "metadata": {
        "colab": {
          "base_uri": "https://localhost:8080/"
        },
        "id": "Pob-8prVAijs",
        "outputId": "50a3e929-01cb-46ca-d345-e1e3a83d19cb"
      },
      "source": [
        "blob=results[\"result\"]\n",
        "print(blob)"
      ],
      "execution_count": null,
      "outputs": [
        {
          "output_type": "stream",
          "text": [
            "Skirt, shirt\n"
          ],
          "name": "stdout"
        }
      ]
    },
    {
      "cell_type": "code",
      "metadata": {
        "colab": {
          "base_uri": "https://localhost:8080/"
        },
        "id": "qHghyz8cBATt",
        "outputId": "a9be860c-85ba-4cd6-97de-9edde1e12f53"
      },
      "source": [
        "#part2:extract specified words\n",
        "import nltk\n",
        "nltk.download('punkt')\n",
        "nltk.download('averaged_perceptron_tagger')\n",
        "import textblob\n",
        "from textblob import TextBlob"
      ],
      "execution_count": null,
      "outputs": [
        {
          "output_type": "stream",
          "text": [
            "[nltk_data] Downloading package punkt to /root/nltk_data...\n",
            "[nltk_data]   Package punkt is already up-to-date!\n",
            "[nltk_data] Downloading package averaged_perceptron_tagger to\n",
            "[nltk_data]     /root/nltk_data...\n",
            "[nltk_data]   Package averaged_perceptron_tagger is already up-to-\n",
            "[nltk_data]       date!\n"
          ],
          "name": "stdout"
        }
      ]
    },
    {
      "cell_type": "code",
      "metadata": {
        "id": "RQCeirOUCfCY"
      },
      "source": [
        "words=TextBlob(results[\"result\"])"
      ],
      "execution_count": null,
      "outputs": []
    },
    {
      "cell_type": "code",
      "metadata": {
        "id": "4wnBw52wzNcf"
      },
      "source": [
        ""
      ],
      "execution_count": null,
      "outputs": []
    },
    {
      "cell_type": "code",
      "metadata": {
        "colab": {
          "base_uri": "https://localhost:8080/"
        },
        "id": "7vcH-yznCrnT",
        "outputId": "f3b0125b-17da-4f05-8bfc-1687f94a2802"
      },
      "source": [
        "words.tags"
      ],
      "execution_count": null,
      "outputs": [
        {
          "output_type": "execute_result",
          "data": {
            "text/plain": [
              "[('Skirt', 'NNP'), ('shirt', 'NN')]"
            ]
          },
          "metadata": {
            "tags": []
          },
          "execution_count": 94
        }
      ]
    },
    {
      "cell_type": "code",
      "metadata": {
        "colab": {
          "base_uri": "https://localhost:8080/"
        },
        "id": "dkabnAWjCuxJ",
        "outputId": "550505b5-4dc4-4676-a814-c5c8a2eb972a"
      },
      "source": [
        "[ word for (word,tag) in words.tags if tag == \"NNS\" ] "
      ],
      "execution_count": null,
      "outputs": [
        {
          "output_type": "execute_result",
          "data": {
            "text/plain": [
              "['shirts']"
            ]
          },
          "metadata": {
            "tags": []
          },
          "execution_count": 43
        }
      ]
    },
    {
      "cell_type": "code",
      "metadata": {
        "id": "GF-snOCWI3xH"
      },
      "source": [
        "sim=[ word for (word,tag) in words.tags if tag == \"NNS\"]"
      ],
      "execution_count": null,
      "outputs": []
    },
    {
      "cell_type": "code",
      "metadata": {
        "colab": {
          "base_uri": "https://localhost:8080/"
        },
        "id": "xqkJ-IGKI8qb",
        "outputId": "3d3b742e-62c7-4814-d47b-97665ae3c938"
      },
      "source": [
        "print(sim)"
      ],
      "execution_count": null,
      "outputs": [
        {
          "output_type": "stream",
          "text": [
            "['shirts']\n"
          ],
          "name": "stdout"
        }
      ]
    },
    {
      "cell_type": "code",
      "metadata": {
        "id": "4SKZAc-MIgqZ"
      },
      "source": [
        "#find similar words\n"
      ],
      "execution_count": null,
      "outputs": []
    },
    {
      "cell_type": "code",
      "metadata": {
        "colab": {
          "base_uri": "https://localhost:8080/"
        },
        "id": "5I1fjOBGHWkl",
        "outputId": "5a17fcc7-3860-42c5-9e2e-90913e05a98c"
      },
      "source": [
        "!pip install PyDictionary"
      ],
      "execution_count": null,
      "outputs": [
        {
          "output_type": "stream",
          "text": [
            "Collecting PyDictionary\n",
            "  Downloading PyDictionary-2.0.1-py3-none-any.whl (6.1 kB)\n",
            "Collecting goslate\n",
            "  Downloading goslate-1.5.1.tar.gz (17 kB)\n",
            "Requirement already satisfied: click in /usr/local/lib/python3.7/dist-packages (from PyDictionary) (7.1.2)\n",
            "Requirement already satisfied: requests in /usr/local/lib/python3.7/dist-packages (from PyDictionary) (2.26.0)\n",
            "Requirement already satisfied: bs4 in /usr/local/lib/python3.7/dist-packages (from PyDictionary) (0.0.1)\n",
            "Requirement already satisfied: beautifulsoup4 in /usr/local/lib/python3.7/dist-packages (from bs4->PyDictionary) (4.6.3)\n",
            "Collecting futures\n",
            "  Downloading futures-3.1.1-py3-none-any.whl (2.8 kB)\n",
            "Requirement already satisfied: urllib3<1.27,>=1.21.1 in /usr/local/lib/python3.7/dist-packages (from requests->PyDictionary) (1.24.3)\n",
            "Requirement already satisfied: charset-normalizer~=2.0.0 in /usr/local/lib/python3.7/dist-packages (from requests->PyDictionary) (2.0.2)\n",
            "Requirement already satisfied: idna<4,>=2.5 in /usr/local/lib/python3.7/dist-packages (from requests->PyDictionary) (2.10)\n",
            "Requirement already satisfied: certifi>=2017.4.17 in /usr/local/lib/python3.7/dist-packages (from requests->PyDictionary) (2021.5.30)\n",
            "Building wheels for collected packages: goslate\n",
            "  Building wheel for goslate (setup.py) ... \u001b[?25l\u001b[?25hdone\n",
            "  Created wheel for goslate: filename=goslate-1.5.1-py3-none-any.whl size=11411 sha256=dd0ad1315bc9a01530d553b45b401e01819eedbaadfa8decc8f8c5bde602cc8a\n",
            "  Stored in directory: /root/.cache/pip/wheels/16/5c/86/f561bb944dc9f853f9502427bde8fe557a6fafe146d4a432f2\n",
            "Successfully built goslate\n",
            "Installing collected packages: futures, goslate, PyDictionary\n",
            "Successfully installed PyDictionary-2.0.1 futures-3.1.1 goslate-1.5.1\n"
          ],
          "name": "stdout"
        }
      ]
    },
    {
      "cell_type": "code",
      "metadata": {
        "id": "wFFeOYg8IfWD"
      },
      "source": [
        "from PyDictionary import PyDictionary"
      ],
      "execution_count": null,
      "outputs": []
    },
    {
      "cell_type": "code",
      "metadata": {
        "id": "RJoFXdqwItX2"
      },
      "source": [
        "dictionary=PyDictionary(sim)"
      ],
      "execution_count": null,
      "outputs": []
    },
    {
      "cell_type": "code",
      "metadata": {
        "colab": {
          "base_uri": "https://localhost:8080/"
        },
        "id": "MZRIs_xXJAIf",
        "outputId": "a8749248-9697-4db5-bad2-336b22d8ece4"
      },
      "source": [
        "print (dictionary.getSynonyms())"
      ],
      "execution_count": null,
      "outputs": [
        {
          "output_type": "stream",
          "text": [
            "[{'shirts': ['shirttail', 'kurta', 'garment', 'shirtfront', 'tee shirt', 'T-shirt', 'shirting', 'shirtsleeve', 'tank top', 'hair shirt', 'sport shirt', 'camise', 'evening shirt', 'jersey', 'dicky', 'daishiki', 'dress shirt', 'work-shirt', 'polo shirt', 'dashiki', 'dickie', 'dickey', 'shirt button']}]\n"
          ],
          "name": "stdout"
        }
      ]
    },
    {
      "cell_type": "code",
      "metadata": {
        "id": "7qvCIFv3JEN-",
        "colab": {
          "base_uri": "https://localhost:8080/"
        },
        "outputId": "8e940f35-2855-4ff6-a872-74871eaa8fcf"
      },
      "source": [
        "from textblob import Word\n",
        "Word(\"blue\").definitions"
      ],
      "execution_count": null,
      "outputs": [
        {
          "output_type": "execute_result",
          "data": {
            "text/plain": [
              "['blue color or pigment; resembling the color of the clear sky in the daytime',\n",
              " 'blue clothing',\n",
              " 'any organization or party whose uniforms or badges are blue',\n",
              " 'the sky as viewed during daylight',\n",
              " 'used to whiten laundry or hair or give it a bluish tinge',\n",
              " 'the sodium salt of amobarbital that is used as a barbiturate; used as a sedative and a hypnotic',\n",
              " 'any of numerous small butterflies of the family Lycaenidae',\n",
              " 'turn blue',\n",
              " 'of the color intermediate between green and violet; having a color similar to that of a clear unclouded sky',\n",
              " 'used to signify the Union forces in the American Civil War (who wore blue uniforms)',\n",
              " 'filled with melancholy and despondency',\n",
              " 'characterized by profanity or cursing',\n",
              " 'suggestive of sexual impropriety',\n",
              " 'belonging to or characteristic of the nobility or aristocracy',\n",
              " 'morally rigorous and strict',\n",
              " 'causing dejection']"
            ]
          },
          "metadata": {
            "tags": []
          },
          "execution_count": 44
        }
      ]
    },
    {
      "cell_type": "code",
      "metadata": {
        "colab": {
          "base_uri": "https://localhost:8080/"
        },
        "id": "TCvH_l1P39_V",
        "outputId": "e1f57249-ebf7-42e9-90c1-3844fec0061d"
      },
      "source": [
        "nltk.download('wordnet')"
      ],
      "execution_count": null,
      "outputs": [
        {
          "output_type": "stream",
          "text": [
            "[nltk_data] Downloading package wordnet to /root/nltk_data...\n",
            "[nltk_data]   Unzipping corpora/wordnet.zip.\n"
          ],
          "name": "stdout"
        },
        {
          "output_type": "execute_result",
          "data": {
            "text/plain": [
              "True"
            ]
          },
          "metadata": {
            "tags": []
          },
          "execution_count": 40
        }
      ]
    },
    {
      "cell_type": "code",
      "metadata": {
        "colab": {
          "base_uri": "https://localhost:8080/"
        },
        "id": "tcC10fZs4hzs",
        "outputId": "c7dcb06a-5dcf-4e0a-db60-8475477e7474"
      },
      "source": [
        "b=TextBlob(\"jans\")\n",
        "b.correct()"
      ],
      "execution_count": null,
      "outputs": [
        {
          "output_type": "execute_result",
          "data": {
            "text/plain": [
              "TextBlob(\"jaws\")"
            ]
          },
          "metadata": {
            "tags": []
          },
          "execution_count": 58
        }
      ]
    },
    {
      "cell_type": "code",
      "metadata": {
        "colab": {
          "base_uri": "https://localhost:8080/"
        },
        "id": "6hp3rDtl7W4r",
        "outputId": "c7216691-3217-4f6c-c6e3-cf6e6f88ceb6"
      },
      "source": [
        "#correction\n",
        "from gingerit.gingerit import GingerIt\n",
        "\n",
        "text = input()\n",
        "\n",
        "parser = GingerIt()\n",
        "parser.parse(text)\n"
      ],
      "execution_count": null,
      "outputs": [
        {
          "output_type": "stream",
          "text": [
            "shart\n"
          ],
          "name": "stdout"
        },
        {
          "output_type": "execute_result",
          "data": {
            "text/plain": [
              "{'corrections': [{'correct': 'Sat',\n",
              "   'definition': None,\n",
              "   'start': 0,\n",
              "   'text': 'shart'}],\n",
              " 'result': 'Sat',\n",
              " 'text': 'shart'}"
            ]
          },
          "metadata": {
            "tags": []
          },
          "execution_count": 61
        }
      ]
    },
    {
      "cell_type": "code",
      "metadata": {
        "id": "V3x60DXu_Rr0"
      },
      "source": [
        "results=parser.parse(text)"
      ],
      "execution_count": null,
      "outputs": []
    },
    {
      "cell_type": "code",
      "metadata": {
        "colab": {
          "base_uri": "https://localhost:8080/"
        },
        "id": "KbD3IZaw_t58",
        "outputId": "cd30aaea-a258-4385-f45f-940c4743f082"
      },
      "source": [
        "results"
      ],
      "execution_count": null,
      "outputs": [
        {
          "output_type": "execute_result",
          "data": {
            "text/plain": [
              "{'corrections': [{'correct': 'Sat',\n",
              "   'definition': None,\n",
              "   'start': 0,\n",
              "   'text': 'shart'}],\n",
              " 'result': 'Sat',\n",
              " 'text': 'shart'}"
            ]
          },
          "metadata": {
            "tags": []
          },
          "execution_count": 64
        }
      ]
    },
    {
      "cell_type": "code",
      "metadata": {
        "colab": {
          "base_uri": "https://localhost:8080/",
          "height": 35
        },
        "id": "4gYy6xb5_-f9",
        "outputId": "9e884503-7b7e-4ec3-dc98-6548335b5ec9"
      },
      "source": [
        "results['result']"
      ],
      "execution_count": null,
      "outputs": [
        {
          "output_type": "execute_result",
          "data": {
            "application/vnd.google.colaboratory.intrinsic+json": {
              "type": "string"
            },
            "text/plain": [
              "'Sat'"
            ]
          },
          "metadata": {
            "tags": []
          },
          "execution_count": 65
        }
      ]
    },
    {
      "cell_type": "code",
      "metadata": {
        "colab": {
          "base_uri": "https://localhost:8080/",
          "height": 35
        },
        "id": "vO5tr5NzABFA",
        "outputId": "bfd26c5c-a9ba-4256-e562-0a47173156cc"
      },
      "source": [
        "words=results[\"result\"]\n",
        "words"
      ],
      "execution_count": null,
      "outputs": [
        {
          "output_type": "execute_result",
          "data": {
            "application/vnd.google.colaboratory.intrinsic+json": {
              "type": "string"
            },
            "text/plain": [
              "'Sat'"
            ]
          },
          "metadata": {
            "tags": []
          },
          "execution_count": 66
        }
      ]
    },
    {
      "cell_type": "code",
      "metadata": {
        "colab": {
          "base_uri": "https://localhost:8080/",
          "height": 129
        },
        "id": "sFr7RjIMAI2q",
        "outputId": "41bac7c5-4b50-4cb0-fb20-1433861b9976"
      },
      "source": [
        "if words!=\"shirt\":\n",
        "  print(shirt)"
      ],
      "execution_count": null,
      "outputs": [
        {
          "output_type": "error",
          "ename": "SyntaxError",
          "evalue": "ignored",
          "traceback": [
            "\u001b[0;36m  File \u001b[0;32m\"<ipython-input-73-d4f08f38c904>\"\u001b[0;36m, line \u001b[0;32m1\u001b[0m\n\u001b[0;31m    if words!==\"shirt\":\u001b[0m\n\u001b[0m              ^\u001b[0m\n\u001b[0;31mSyntaxError\u001b[0m\u001b[0;31m:\u001b[0m invalid syntax\n"
          ]
        }
      ]
    },
    {
      "cell_type": "code",
      "metadata": {
        "colab": {
          "base_uri": "https://localhost:8080/"
        },
        "id": "YwBDgPozAbH7",
        "outputId": "2af01986-b5eb-4075-9fd2-bee98089ecd9"
      },
      "source": [
        "if words!=\"Shirt\"or \"Pant\":\n",
        "  print(\"shirt\")"
      ],
      "execution_count": null,
      "outputs": [
        {
          "output_type": "stream",
          "text": [
            "shirt\n"
          ],
          "name": "stdout"
        }
      ]
    },
    {
      "cell_type": "code",
      "metadata": {
        "id": "whSHF4xLBySi"
      },
      "source": [
        ""
      ],
      "execution_count": null,
      "outputs": []
    }
  ]
}